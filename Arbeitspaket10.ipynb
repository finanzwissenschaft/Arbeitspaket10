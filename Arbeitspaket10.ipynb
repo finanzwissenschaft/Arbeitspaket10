{
 "cells": [
  {
   "cell_type": "code",
   "execution_count": 1,
   "id": "8b0d652e-5d2b-414c-8177-0804ca401d8a",
   "metadata": {},
   "outputs": [],
   "source": [
    "import ipywidgets as widgets\n",
    "from ipywidgets import interactive\n",
    "from ipywidgets import Box\n",
    "\n",
    "import matplotlib.pyplot as plt\n",
    "import numpy as np\n",
    "import math\n",
    "\n",
    "from IPython.display import HTML\n",
    "from IPython.display import IFrame\n",
    "\n",
    "import builtins"
   ]
  },
  {
   "cell_type": "code",
   "execution_count": 2,
   "id": "9fbc87ef-b740-44ba-b1c1-a04f41ddbf38",
   "metadata": {},
   "outputs": [
    {
     "data": {
      "application/vnd.jupyter.widget-view+json": {
       "model_id": "c4cdcec4e57b4e6d81d1c55e0790a413",
       "version_major": 2,
       "version_minor": 0
      },
      "text/plain": [
       "Image(value=b'\\x89PNG\\r\\n\\x1a\\n\\x00\\x00\\x00\\rIHDR\\x00\\x00\\t;\\x00\\x00\\x02c\\x08\\x06\\x00\\x00\\x00\\xc9*W\\x85\\x00\\x0…"
      ]
     },
     "execution_count": 2,
     "metadata": {},
     "output_type": "execute_result"
    }
   ],
   "source": [
    "file = builtins.open(\"Bilder/Logo.png\", \"rb\")\n",
    "image = file.read()\n",
    "bild_Logo = widgets.Image(\n",
    "    value=image,\n",
    "    format='png',\n",
    "    width=200,\n",
    "   #height=128,\n",
    "    )\n",
    "bild_Logo"
   ]
  },
  {
   "cell_type": "markdown",
   "id": "30edf4b0-aae0-411e-bcad-9446bf8be070",
   "metadata": {},
   "source": [
    "# <span style=\"font-family:Century Gothic;color:DarkCyan\">Arbeitspaket 10</span>"
   ]
  },
  {
   "cell_type": "markdown",
   "id": "d77bb09a-805c-4bfd-9a2a-839c5f38db13",
   "metadata": {},
   "source": [
    "## <span style=\"font-family:Century Gothic;color:DarkCyan\">Aufgabe 1</span>"
   ]
  },
  {
   "cell_type": "markdown",
   "id": "f67b42ae-d18e-43d4-925f-b8c07fed4092",
   "metadata": {},
   "source": [
    "Ziel des theoretischen Modells von <a href=\"https://www.jstor.org/stable/1830813?seq=1#metadata_info_tab_contents\">Meltzer & Richard (1981)</a> ist es, Umverteilungspräferenzen von Individuen zu erklären. Umverteilungspräferenzen werden hierbei durch den von Individuum $i$ präferierten Steuersatz $t_{i}$ abgebildet. "
   ]
  },
  {
   "cell_type": "markdown",
   "id": "69598a3e-befa-4272-b0a1-d9ae343ff362",
   "metadata": {},
   "source": [
    "> **Welchen Faktor erachten Meltzer & Richard als maßgeblich für die Umverteilungspräferenzen eines Individuums (Meltzer-Richard-Hypothese) ?**"
   ]
  },
  {
   "cell_type": "code",
   "execution_count": 3,
   "id": "5824c75e-fa25-4c1a-b506-d91bf1b0081f",
   "metadata": {},
   "outputs": [],
   "source": [
    "opinion_MR = widgets.RadioButtons(\n",
    "    options=['Bildungsniveau','Einkommensposition','Ungleichheitsaversion'],\n",
    "    value=None,\n",
    "    disabled=False\n",
    ")\n",
    "\n",
    "button_MR = widgets.Button(\n",
    "    description='Auswertung',\n",
    "    disabled=False,\n",
    "    button_style='', # 'success', 'info', 'warning', 'danger' or ''\n",
    "    tooltip='Bitte klicken.',\n",
    "    #icon='check' # (FontAwesome names without the `fa-` prefix)\n",
    ")\n",
    "\n",
    "# define function\n",
    "def check(button_MR):\n",
    "  if opinion_MR.value == 'Einkommensposition':\n",
    "    button_MR.button_style = 'success'\n",
    "    button_MR.description = 'Richtig'\n",
    "  else:\n",
    "    button_MR.button_style = 'danger'\n",
    "    button_MR.description = 'Leider Falsch'\n",
    "\n",
    "# set function as on_click on button\n",
    "button_MR.on_click(check)"
   ]
  },
  {
   "cell_type": "code",
   "execution_count": 4,
   "id": "f8e725af-a3fa-4f9d-a59d-bee2cb9660d9",
   "metadata": {},
   "outputs": [
    {
     "data": {
      "application/vnd.jupyter.widget-view+json": {
       "model_id": "f5cc72ce50d4400da907f2a76dbb2e7d",
       "version_major": 2,
       "version_minor": 0
      },
      "text/plain": [
       "RadioButtons(options=('Bildungsniveau', 'Einkommensposition', 'Ungleichheitsaversion'), value=None)"
      ]
     },
     "metadata": {},
     "output_type": "display_data"
    },
    {
     "data": {
      "application/vnd.jupyter.widget-view+json": {
       "model_id": "3670ae2271db4746bf1066f4eeeff1b4",
       "version_major": 2,
       "version_minor": 0
      },
      "text/plain": [
       "Button(description='Auswertung', style=ButtonStyle(), tooltip='Bitte klicken.')"
      ]
     },
     "metadata": {},
     "output_type": "display_data"
    }
   ],
   "source": [
    "display(opinion_MR)\n",
    "display(button_MR)"
   ]
  },
  {
   "cell_type": "markdown",
   "id": "ed50af13-7415-4732-9315-f4d407f15b79",
   "metadata": {},
   "source": [
    "Der Zusammenhang zwischen der Einkommensposition und dem präferierten Steuersatz wird in der untenstehenden Grafik verdeutlicht.\n",
    "\n",
    "> **Nutzen Sie den Slider, um für mehrere Individuen mit verschiedenen Positionen in der Einkommensverteilung $x$ den von diesen Individuen jeweils präferierten Steuersatz $t_{i}$ zu bestimmen.**"
   ]
  },
  {
   "cell_type": "code",
   "execution_count": 5,
   "id": "a3163dec-f3a1-46db-bdb0-e535e7b1f84a",
   "metadata": {},
   "outputs": [
    {
     "data": {
      "application/vnd.jupyter.widget-view+json": {
       "model_id": "9a01a5fb8bce439682b15b76576070bf",
       "version_major": 2,
       "version_minor": 0
      },
      "text/plain": [
       "interactive(children=(IntSlider(value=50, description='x', max=80, min=20, step=10), Output()), _dom_classes=(…"
      ]
     },
     "execution_count": 5,
     "metadata": {},
     "output_type": "execute_result"
    }
   ],
   "source": [
    "%matplotlib inline\n",
    "\n",
    "def f(x):\n",
    "    plt.figure(2)\n",
    "    #x = np.linspace(0, 100, num=100)\n",
    "    z = [0,20,50,100]\n",
    "    y = [80,80,50,0]\n",
    "    plt.plot(z,y,color=\"maroon\")\n",
    "    plt.vlines(x, 0, 100-1*x,colors='k',linestyles='dotted',color=\"maroon\", alpha=0.5)\n",
    "    plt.hlines(100-1*x,0,x,colors='k',linestyles='dotted',color=\"maroon\", alpha=0.5)\n",
    "    plt.ylim(0, 100)\n",
    "    plt.xlabel(\"Einkommensposition $x$\")\n",
    "    plt.margins(x=0)\n",
    "    plt.ylabel(\"Präferierter Steuersatz $t$\")    \n",
    "    plt.show()\n",
    "\n",
    "    \n",
    "interactive_plot = interactive(f, x=(20, 80, 10))\n",
    "output = interactive_plot.children[-1]\n",
    "interactive_plot"
   ]
  },
  {
   "cell_type": "markdown",
   "id": "3bdf37bc-739e-4975-83b5-188b7a3a4514",
   "metadata": {},
   "source": [
    "> **Wie lautet der präferierte Steuersatz $t_{i}$ des Individuums mit Medianeinkommen?**"
   ]
  },
  {
   "cell_type": "code",
   "execution_count": 6,
   "id": "bbcef631-23e0-4231-b8d2-5038e123970d",
   "metadata": {},
   "outputs": [],
   "source": [
    "text_Median = widgets.BoundedIntText(\n",
    "    value=0,\n",
    "    min=0,\n",
    "    max=100,\n",
    "    step=1,\n",
    "    description='Prozent',\n",
    "    disabled=False\n",
    ")\n",
    "\n",
    "\n",
    "button_Median = widgets.Button(\n",
    "    description='Auswertung',\n",
    "    disabled=False,\n",
    "    button_style='', # 'success', 'info', 'warning', 'danger' or ''\n",
    "    tooltip='Bitte klicken.',\n",
    "    #icon='check' # (FontAwesome names without the `fa-` prefix)\n",
    ")\n",
    "\n",
    "\n",
    "# define function\n",
    "def check(button_Median):\n",
    "  if text_Median.value == 50:\n",
    "    button_Median.button_style = 'success'\n",
    "    button_Median.description = 'Richtig!'\n",
    "  else:\n",
    "    button_Median.button_style = 'danger'\n",
    "    button_Median.description = 'Leider falsch.'\n",
    "\n",
    "# set function as on_click on button\n",
    "button_Median.on_click(check)"
   ]
  },
  {
   "cell_type": "code",
   "execution_count": 7,
   "id": "433b7e88-7fb1-4c44-bab8-6e40d0aae0fd",
   "metadata": {},
   "outputs": [
    {
     "data": {
      "application/vnd.jupyter.widget-view+json": {
       "model_id": "4378fac9f6564c5083845ea475dcaf95",
       "version_major": 2,
       "version_minor": 0
      },
      "text/plain": [
       "Box(children=(BoundedIntText(value=0, description='Prozent'), Button(description='Auswertung', style=ButtonSty…"
      ]
     },
     "metadata": {},
     "output_type": "display_data"
    }
   ],
   "source": [
    "# nebeneinander in Box anzeigen\n",
    "items = [text_Median, button_Median]\n",
    "box_Median = Box(children=items)\n",
    "display(box_Median) # <- this one command displays all children"
   ]
  },
  {
   "cell_type": "markdown",
   "id": "6df1cc34-8fb2-420d-93a8-4735a4e25da7",
   "metadata": {},
   "source": [
    "> **Wie verändert sich der präferierte Steuersatz $t_{i}$, wenn sich die Position von Individuum $i$ in der Einkommensverteilung verbessert?**"
   ]
  },
  {
   "cell_type": "code",
   "execution_count": 8,
   "id": "2cd141a2-b2d2-4644-90db-d5a7cea36c0d",
   "metadata": {},
   "outputs": [],
   "source": [
    "opinion_final = widgets.RadioButtons(\n",
    "    options=['Der präferierte Steuersatz steigt.','Der präferierte Steuersatz sinkt.'],\n",
    "    value=None,\n",
    "    description='',\n",
    "    disabled=False,\n",
    ")\n",
    "\n",
    "button_final = widgets.Button(\n",
    "    description='Auswertung',\n",
    "    disabled=False,\n",
    "    button_style='', # 'success', 'info', 'warning', 'danger' or ''\n",
    "    tooltip='Bitte klicken.',\n",
    "    #icon='check' # (FontAwesome names without the `fa-` prefix)\n",
    ")\n",
    "\n",
    "\n",
    "# define function\n",
    "def check(button_instance):\n",
    "  if opinion_final.value == 'Der präferierte Steuersatz sinkt.':\n",
    "    button_final.button_style = 'success'\n",
    "    button_final.description = 'Richtig!'\n",
    "  else:\n",
    "    button_final.button_style = 'danger'\n",
    "    button_final.description = 'Leider falsch.'\n",
    "\n",
    "# set function as on_click on button\n",
    "button_final.on_click(check)\n",
    "\n"
   ]
  },
  {
   "cell_type": "code",
   "execution_count": 9,
   "id": "b8cd205c-dbf7-4994-9da7-2e1ff0f7aa1d",
   "metadata": {},
   "outputs": [
    {
     "data": {
      "application/vnd.jupyter.widget-view+json": {
       "model_id": "71c1803841bc4031a0f447cce32938ba",
       "version_major": 2,
       "version_minor": 0
      },
      "text/plain": [
       "Box(children=(RadioButtons(options=('Der präferierte Steuersatz steigt.', 'Der präferierte Steuersatz sinkt.')…"
      ]
     },
     "metadata": {},
     "output_type": "display_data"
    }
   ],
   "source": [
    "items = [opinion_final, button_final]\n",
    "box_final = Box(children=items)\n",
    "display(box_final) # <- this one command displays all children"
   ]
  },
  {
   "cell_type": "markdown",
   "id": "5bc93276-6843-4a0b-9405-b95b1a3b073f",
   "metadata": {},
   "source": [
    "# <span style=\"font-family:Century Gothic;color:DarkCyan\">Aufgabe 2</span>\n",
    "\n",
    "### <span style=\"font-family:Century Gothic;color:DarkCyan\">Aufgabe 2.1: Umfrageexperiment</span>\n",
    "\n",
    "<a href=\"https://direct.mit.edu/rest/article/99/2/201/58387/Richer-and-Holier-Than-Thou-The-Effect-of-Relative\">Karadja, Mollerstrom und Seim (2017)</a> untersuchen den Einfluss der Einkommensposition auf die Umverteilungspräferenzen empirisch. Hierfür informieren sie die Individuen über ihre tatsächliche Position in der Einkommensverteilung. Nehmen Sie im Folgenden an, Sie seien ein alleinstehendes Individuum mit einem Nettoeinkommen von 19.464€ im Jahr. \n",
    "\n",
    "Bitte beantworten Sie die folgende Frage aus der Umfrage von Karadja, Mollerstrom und Seim (2017).\n",
    "***\n",
    "*Stellen Sie sich vor, das Einkommen aller Menschen in Deutschland würde auf einer Skala von 1 bis 10 aufgeteilt wobei 1 das geringste und 10 das höchste Einkommen darstellt.*\n",
    "\n",
    "> ***Welche relative Einkommensposition erwarten Sie mit einem Einkommen von 19.464€ im Jahr?***"
   ]
  },
  {
   "cell_type": "code",
   "execution_count": 10,
   "id": "4e8cddfe-1648-4846-ae05-6dc0b93e4073",
   "metadata": {},
   "outputs": [
    {
     "data": {
      "application/vnd.jupyter.widget-view+json": {
       "model_id": "dcf3e06ab7424b0a8091093760a966a3",
       "version_major": 2,
       "version_minor": 0
      },
      "text/plain": [
       "IntSlider(value=5, continuous_update=False, description='Skala', max=10, min=1)"
      ]
     },
     "metadata": {},
     "output_type": "display_data"
    }
   ],
   "source": [
    "scale_KMS = widgets.IntSlider(\n",
    "    value=5,\n",
    "    min=1,\n",
    "    max=10,\n",
    "    step=1,\n",
    "    description='Skala',\n",
    "    disabled=False,\n",
    "    continuous_update=False,\n",
    "    orientation='horizontal',\n",
    "    readout=True,\n",
    "    readout_format='d'\n",
    ")\n",
    "\n",
    "display(scale_KMS)"
   ]
  },
  {
   "cell_type": "markdown",
   "id": "7b4961f7-e00b-4c0d-a471-6db06e00c70b",
   "metadata": {},
   "source": [
    "***\n",
    "Nach Beantwortung dieser Frage wird die Hälfte der Teilnehmer des Umfrageexperiments über ihre tatsächliche Position in der Einkommensverteilung informiert.\n",
    "\n",
    "> **Machen Sie sich mit dem Umfragedesign vertraut und schauen Sie sich im Anschluss die Reiter für Behandlungs- und Kontrollgruppe an.**\n"
   ]
  },
  {
   "cell_type": "code",
   "execution_count": 11,
   "id": "fc823e84-966c-4bdd-834c-4b9f156ed540",
   "metadata": {},
   "outputs": [
    {
     "data": {
      "application/vnd.jupyter.widget-view+json": {
       "model_id": "0755660188b84199b2c000a15e2a7133",
       "version_major": 2,
       "version_minor": 0
      },
      "text/plain": [
       "Tab(children=(Image(value=b'\\x89PNG\\r\\n\\x1a\\n\\x00\\x00\\x00\\rIHDR\\x00\\x00\\x03w\\x00\\x00\\x01\\xda\\x08\\x06\\x00\\x00\\x…"
      ]
     },
     "execution_count": 11,
     "metadata": {},
     "output_type": "execute_result"
    }
   ],
   "source": [
    "## Bilder einfügen\n",
    "file = builtins.open(\"Bilder/Design.png\", \"rb\")\n",
    "image = file.read()\n",
    "bild_Design = widgets.Image(\n",
    "    value=image,\n",
    "    format='png',\n",
    "    #width=128,\n",
    "    #height=128,\n",
    "    )\n",
    "bild_Design\n",
    "\n",
    "## Bilder einfügen\n",
    "file = builtins.open(\"Bilder/Info_2.png\", \"rb\")\n",
    "image = file.read()\n",
    "bild_T = widgets.Image(\n",
    "    value=image,\n",
    "    format='png',\n",
    "    #width=128,\n",
    "    #height=128,\n",
    "    )\n",
    "bild_T\n",
    "\n",
    "gruppe_K = widgets.Label(\n",
    "        value=\"Keine weiteren Informationen.\",\n",
    "        placeholder='Some LaTeX',\n",
    "        description='Some LaTeX',\n",
    "        disabled=False\n",
    "    )\n",
    "gruppe_K\n",
    "\n",
    "\n",
    "tab_nest = widgets.Tab()\n",
    "tab_nest.children = [bild_Design,bild_T,gruppe_K]\n",
    "tab_nest.set_title(0, 'Umfragedesign')\n",
    "tab_nest.set_title(1, 'Behandlungsgruppe')\n",
    "tab_nest.set_title(2, 'Kontrollgruppe')\n",
    "tab_nest\n"
   ]
  },
  {
   "cell_type": "markdown",
   "id": "993cdfdb-5157-4cd5-97de-bda4d13b629b",
   "metadata": {},
   "source": [
    "### <span style=\"font-family:Century Gothic;color:DarkCyan\">Aufgabe 2.2: Wahrgenommene vs. tatsächliche Position in der Einkommensverteilung</span>\n",
    "\n",
    "Anhand der untenstehenden Grafik können Sie sehen, inwieweit Ihre wahrgenommene relative Einkommensposition $W$ von der tatsächlichen Position $Y$ in der Einkommensverteilung abweicht.\n",
    "\n",
    "> **Nutzen Sie zunächst den Slider, um Ihren geschätzten Wert aus Aufgabe 2.1 einzustellen. Nutzen Sie dann den Slider, um den Wert für ein Individuum einzustellen, das seine tatsächliche Position überschätzt hat. Nutzen Sie im Anschluss den Slider, um den Wert für ein Individuum einzustellen, das seine Position korrekt eingeschätzt hat.**"
   ]
  },
  {
   "cell_type": "code",
   "execution_count": 12,
   "id": "aeb253b4-bd41-4d9f-ba09-25458ce8064a",
   "metadata": {},
   "outputs": [
    {
     "data": {
      "application/vnd.jupyter.widget-view+json": {
       "model_id": "10b54994604f472197b72bb11b7eacf0",
       "version_major": 2,
       "version_minor": 0
      },
      "text/plain": [
       "interactive(children=(IntSlider(value=5, description='W', max=10), Output()), _dom_classes=('widget-interact',…"
      ]
     },
     "execution_count": 12,
     "metadata": {},
     "output_type": "execute_result"
    }
   ],
   "source": [
    "%matplotlib inline\n",
    "\n",
    "def f(W):\n",
    "    plt.figure(2)\n",
    "    y = [3]\n",
    "    z= [0,10]\n",
    "    v= [0,10]\n",
    "    plt.plot(z,v,color=\"Darkcyan\", alpha=0.5)\n",
    "    plt.scatter(y,W,color=\"Darkcyan\")\n",
    "    plt.ylim(0, 10)\n",
    "    plt.xlim(0, 10)\n",
    "    plt.xlabel(\"Tatsächliche Einkommensposition $Y$\")\n",
    "    plt.margins(x=0)\n",
    "    plt.ylabel(\"Wahrgenommene Einkommensposition $W$\")    \n",
    "    plt.show()\n",
    "\n",
    "    \n",
    "interactive_plot = interactive(f, W=(0, 10, 1))\n",
    "output = interactive_plot.children[-1]\n",
    "interactive_plot"
   ]
  },
  {
   "cell_type": "markdown",
   "id": "4cbc9841-979d-4c15-b803-af37b9846e2a",
   "metadata": {},
   "source": [
    "# <span style=\"font-family:Century Gothic;color:DarkCyan\">Aufgabe 3</span>"
   ]
  },
  {
   "cell_type": "markdown",
   "id": "29fa87b8-a1e7-4ca6-b0bd-5fe01f16659b",
   "metadata": {},
   "source": [
    "Die Studie von Verho, Hämäläinen und Kanninen (2022) untersucht, wie sich das bedingungslose Grundeinkommen auf das Arbeitsmarktangebot von Arbeitslosen auswirkt. "
   ]
  },
  {
   "cell_type": "markdown",
   "id": "f9d64197-a17c-41c9-a4c7-909542e143f0",
   "metadata": {},
   "source": [
    "Zufällig ausgewählte Arbeitslose in Finnland wurden in eine Behandlungs- und in eine Kontrollgruppe aufgeteilt. Individuen in der Behandlungsgruppe bekamen ab Januar 2017 einen steuerfreien Betrag von 560€/Monat über 2 Jahre. **Abbildung 1** stellt die Ergebnisse der Studie dar."
   ]
  },
  {
   "cell_type": "code",
   "execution_count": 13,
   "id": "47e13508-49a6-4f77-93cf-5dff57b8822c",
   "metadata": {},
   "outputs": [
    {
     "data": {
      "application/vnd.jupyter.widget-view+json": {
       "model_id": "d03cfe7fdd374acfacfe6ea87ef49e99",
       "version_major": 2,
       "version_minor": 0
      },
      "text/plain": [
       "Image(value=b'\\x89PNG\\r\\n\\x1a\\n\\x00\\x00\\x00\\rIHDR\\x00\\x00\\x03G\\x00\\x00\\x02\\x04\\x08\\x06\\x00\\x00\\x00\\xd2\\x01U\\xf…"
      ]
     },
     "execution_count": 13,
     "metadata": {},
     "output_type": "execute_result"
    }
   ],
   "source": [
    "## Bilder einfügen\n",
    "file = builtins.open(\"Bilder/Abbildung1_BGE.PNG\", \"rb\")\n",
    "image = file.read()\n",
    "bild = widgets.Image(\n",
    "    value=image,\n",
    "    format='png',\n",
    "    #width=1000,\n",
    "    #height=600,\n",
    "    )\n",
    "bild"
   ]
  },
  {
   "cell_type": "markdown",
   "id": "3c1de548-ef6d-48a4-bcb4-688291800e27",
   "metadata": {},
   "source": [
    "**Abbildung 1**: Anteil an Individuen, die im betrachteten Zeitraum gearbeitet haben. Quelle: Verho et al. (2022)."
   ]
  },
  {
   "cell_type": "markdown",
   "id": "4ca13795-8cc9-42ac-9999-d70b120010ad",
   "metadata": {},
   "source": [
    "> **Welche Gruppe erhöht ihr Arbeitsangebot über den betrachteten Zeitraum?**"
   ]
  },
  {
   "cell_type": "code",
   "execution_count": 14,
   "id": "b3e86490-b4e0-408f-99d2-57cae75f6ea6",
   "metadata": {},
   "outputs": [],
   "source": [
    "opinion_final = widgets.RadioButtons(\n",
    "    options=['Die Behandlungsgruppe','Die Kontrollgruppe', 'Beide Gruppen', 'Keine Aussage möglich'],\n",
    "    value=None,\n",
    "    description='',\n",
    "    disabled=False,\n",
    ")\n",
    "\n",
    "button_final = widgets.Button(\n",
    "    description='Auswertung',\n",
    "    disabled=False,\n",
    "    button_style='', # 'success', 'info', 'warning', 'danger' or ''\n",
    "    tooltip='Bitte klicken.',\n",
    "    #icon='check' # (FontAwesome names without the `fa-` prefix)\n",
    ")\n",
    "\n",
    "\n",
    "# define function\n",
    "def check(button_instance):\n",
    "  if opinion_final.value == 'Beide Gruppen':\n",
    "    button_final.button_style = 'success'\n",
    "    button_final.description = 'Richtig!'\n",
    "  else:\n",
    "    button_final.button_style = 'danger'\n",
    "    button_final.description = 'Leider falsch.'\n",
    "\n",
    "# set function as on_click on button\n",
    "button_final.on_click(check)\n"
   ]
  },
  {
   "cell_type": "code",
   "execution_count": 15,
   "id": "607dcd6d-0728-4d38-a21b-8cb5f449684a",
   "metadata": {},
   "outputs": [
    {
     "data": {
      "application/vnd.jupyter.widget-view+json": {
       "model_id": "e737c867dad842e88188f5e0acfd888e",
       "version_major": 2,
       "version_minor": 0
      },
      "text/plain": [
       "Box(children=(RadioButtons(options=('Die Behandlungsgruppe', 'Die Kontrollgruppe', 'Beide Gruppen', 'Keine Aus…"
      ]
     },
     "metadata": {},
     "output_type": "display_data"
    }
   ],
   "source": [
    "items = [opinion_final, button_final]\n",
    "box_final = Box(children=items)\n",
    "display(box_final) # <- this one command displays all children"
   ]
  },
  {
   "cell_type": "markdown",
   "id": "20cd90d5-cae1-4631-b61a-e31fdf87a718",
   "metadata": {},
   "source": [
    "> **Was können mögliche Gründe für den beobachteten Anstieg im Arbeitsangebot sein?**"
   ]
  },
  {
   "cell_type": "markdown",
   "id": "54b05841-8812-442c-83c8-43018705f028",
   "metadata": {},
   "source": [
    "Diese Frage wird im Rahmen der Präsenzveranstaltung beantwortet."
   ]
  },
  {
   "cell_type": "markdown",
   "id": "ee6475a2-3bbd-4801-843e-e45992a33b4e",
   "metadata": {},
   "source": [
    "> **In welchem Zeitraum ist die Wirkung des Grundeinkommens auf das Arbeitsangebot stärker?**"
   ]
  },
  {
   "cell_type": "code",
   "execution_count": 16,
   "id": "e031d53a-bbab-4e3b-8fad-be0ed529062e",
   "metadata": {},
   "outputs": [],
   "source": [
    "opinion_final = widgets.RadioButtons(\n",
    "    options=['Im ersten Jahr nach der Intervention','Im zweiten Jahr nach der Intervention', 'Keine Aussage möglich'],\n",
    "    value=None,\n",
    "    description='',\n",
    "    disabled=False,\n",
    ")\n",
    "\n",
    "button_final = widgets.Button(\n",
    "    description='Auswertung',\n",
    "    disabled=False,\n",
    "    button_style='', # 'success', 'info', 'warning', 'danger' or ''\n",
    "    tooltip='Bitte klicken.',\n",
    "    #icon='check' # (FontAwesome names without the `fa-` prefix)\n",
    ")\n",
    "\n",
    "\n",
    "# define function\n",
    "def check(button_instance):\n",
    "  if opinion_final.value == 'Im zweiten Jahr nach der Intervention':\n",
    "    button_final.button_style = 'success'\n",
    "    button_final.description = 'Richtig!'\n",
    "  else:\n",
    "    button_final.button_style = 'danger'\n",
    "    button_final.description = 'Leider falsch.'\n",
    "\n",
    "# set function as on_click on button\n",
    "button_final.on_click(check)"
   ]
  },
  {
   "cell_type": "code",
   "execution_count": 17,
   "id": "de42ba73-47a5-4795-8deb-2c9888c840f5",
   "metadata": {},
   "outputs": [
    {
     "data": {
      "application/vnd.jupyter.widget-view+json": {
       "model_id": "f155a582b2274e54a3da66271e2eeea4",
       "version_major": 2,
       "version_minor": 0
      },
      "text/plain": [
       "Box(children=(RadioButtons(options=('Im ersten Jahr nach der Intervention', 'Im zweiten Jahr nach der Interven…"
      ]
     },
     "metadata": {},
     "output_type": "display_data"
    }
   ],
   "source": [
    "items = [opinion_final, button_final]\n",
    "box_final = Box(children=items)\n",
    "display(box_final) # <- this one command displays all children"
   ]
  },
  {
   "cell_type": "markdown",
   "id": "f01f32a5-f0e3-4d77-bc96-cea8fbc3ed38",
   "metadata": {},
   "source": [
    "> **Kann man anhand von Abbildung 1 die Schlussfolgerung ziehen, dass ein bedingungsloses Grundeinkommen für alle Finnen positive Auswirkungen auf das Arbeitsangebot hätte?**"
   ]
  },
  {
   "cell_type": "code",
   "execution_count": 18,
   "id": "d8e724f2-6872-4450-9313-a290a7583fc9",
   "metadata": {},
   "outputs": [],
   "source": [
    "opinion_final = widgets.RadioButtons(\n",
    "    options=['Ja','Nein'],\n",
    "    value=None,\n",
    "    description='',\n",
    "    disabled=False,\n",
    ")\n",
    "\n",
    "button_final = widgets.Button(\n",
    "    description='Auswertung',\n",
    "    disabled=False,\n",
    "    button_style='', # 'success', 'info', 'warning', 'danger' or ''\n",
    "    tooltip='Bitte klicken.',\n",
    "    #icon='check' # (FontAwesome names without the `fa-` prefix)\n",
    ")\n",
    "\n",
    "\n",
    "# define function\n",
    "def check(button_instance):\n",
    "  if opinion_final.value == 'Nein':\n",
    "    button_final.button_style = 'success'\n",
    "    button_final.description = 'Richtig!'\n",
    "  else:\n",
    "    button_final.button_style = 'danger'\n",
    "    button_final.description = 'Leider falsch.'\n",
    "\n",
    "# set function as on_click on button\n",
    "button_final.on_click(check)"
   ]
  },
  {
   "cell_type": "code",
   "execution_count": 19,
   "id": "bc76f7e6-e735-41bd-b7dd-909722ba693f",
   "metadata": {},
   "outputs": [
    {
     "data": {
      "application/vnd.jupyter.widget-view+json": {
       "model_id": "c102e750cb0e4622844f42ffe51b690d",
       "version_major": 2,
       "version_minor": 0
      },
      "text/plain": [
       "Box(children=(RadioButtons(options=('Ja', 'Nein'), value=None), Button(description='Auswertung', style=ButtonS…"
      ]
     },
     "metadata": {},
     "output_type": "display_data"
    }
   ],
   "source": [
    "items = [opinion_final, button_final]\n",
    "box_final = Box(children=items)\n",
    "display(box_final) # <- this one command displays all children"
   ]
  },
  {
   "cell_type": "markdown",
   "id": "261bb34d-b55a-4c1f-a1b0-1f4cbae276cc",
   "metadata": {},
   "source": [
    "> **Betrachten Sie den Zeitraum vor Beginn des Experimentes. Sind Unterschiede zwischen Behandlungs- und Kontrollgruppe in diesem Zeitraum beobachtbar?**"
   ]
  },
  {
   "cell_type": "code",
   "execution_count": 20,
   "id": "7ddcd450-e632-46af-b4b0-0aa8b0e90c40",
   "metadata": {},
   "outputs": [],
   "source": [
    "opinion_final = widgets.RadioButtons(\n",
    "    options=['Ja','Nein', 'Keine Aussage möglich'],\n",
    "    value=None,\n",
    "    description='',\n",
    "    disabled=False,\n",
    ")\n",
    "\n",
    "button_final = widgets.Button(\n",
    "    description='Auswertung',\n",
    "    disabled=False,\n",
    "    button_style='', # 'success', 'info', 'warning', 'danger' or ''\n",
    "    tooltip='Bitte klicken.',\n",
    "    #icon='check' # (FontAwesome names without the `fa-` prefix)\n",
    ")\n",
    "\n",
    "\n",
    "# define function\n",
    "def check(button_instance):\n",
    "  if opinion_final.value == 'Nein':\n",
    "    button_final.button_style = 'success'\n",
    "    button_final.description = 'Richtig!'\n",
    "  else:\n",
    "    button_final.button_style = 'danger'\n",
    "    button_final.description = 'Leider falsch.'\n",
    "\n",
    "# set function as on_click on button\n",
    "button_final.on_click(check)"
   ]
  },
  {
   "cell_type": "code",
   "execution_count": 21,
   "id": "b107d8a7-55a3-48cb-b63f-db14d943c4a6",
   "metadata": {},
   "outputs": [
    {
     "data": {
      "application/vnd.jupyter.widget-view+json": {
       "model_id": "e853f19d190a4afaaec0d780e00ed091",
       "version_major": 2,
       "version_minor": 0
      },
      "text/plain": [
       "Box(children=(RadioButtons(options=('Ja', 'Nein', 'Keine Aussage möglich'), value=None), Button(description='A…"
      ]
     },
     "metadata": {},
     "output_type": "display_data"
    }
   ],
   "source": [
    "items = [opinion_final, button_final]\n",
    "box_final = Box(children=items)\n",
    "display(box_final) # <- this one command displays all children"
   ]
  },
  {
   "cell_type": "markdown",
   "id": "1114fd15-622a-416f-b5b9-5d9c4c7811ce",
   "metadata": {},
   "source": [
    "> **Wie ist dies hinsichtlich der Validität der Studie zu bewerten?**"
   ]
  },
  {
   "cell_type": "markdown",
   "id": "8ccbae18-9207-4f93-8590-ce07457d0354",
   "metadata": {},
   "source": [
    "Diese Frage wird im Rahmen der Präsenzveranstaltung beantwortet."
   ]
  },
  {
   "cell_type": "markdown",
   "id": "2011e9dc-17c4-4faf-8baa-4281a0f842d5",
   "metadata": {},
   "source": [
    "**Abbildung 2** stellt die Differenz zwischen dem Arbeitsangebot der Behandlungs- und der Kontrollgruppe im Zeitverlauf dar."
   ]
  },
  {
   "cell_type": "code",
   "execution_count": 22,
   "id": "c07e2466-9db4-42e4-8f5b-50962b6be7e8",
   "metadata": {},
   "outputs": [
    {
     "data": {
      "application/vnd.jupyter.widget-view+json": {
       "model_id": "d27b936600914728beed61425056654d",
       "version_major": 2,
       "version_minor": 0
      },
      "text/plain": [
       "Image(value=b'\\x89PNG\\r\\n\\x1a\\n\\x00\\x00\\x00\\rIHDR\\x00\\x00\\x02\\xdd\\x00\\x00\\x01\\x95\\x08\\x06\\x00\\x00\\x00\"\\xd4Mn\\x…"
      ]
     },
     "execution_count": 22,
     "metadata": {},
     "output_type": "execute_result"
    }
   ],
   "source": [
    "## Bilder einfügen\n",
    "file = builtins.open(\"Bilder/Abbildung2_BGE.PNG\", \"rb\")\n",
    "image = file.read()\n",
    "bild = widgets.Image(\n",
    "    value=image,\n",
    "    format='png',\n",
    "    #width=1000,\n",
    "    #height=600,\n",
    "    )\n",
    "bild"
   ]
  },
  {
   "cell_type": "markdown",
   "id": "c4466c35-ab4b-470b-b8bd-306b31c2cbc1",
   "metadata": {},
   "source": [
    "**Abbildung 2**: Differenz zwischen dem Arbeitsangebot der Behandlungsgruppe (T) und der Kontrollgruppe (C) über den betrachteten Zeitraum. Quelle: Verho, Hämäläinen and Kanninen (2022)."
   ]
  },
  {
   "cell_type": "markdown",
   "id": "cb9600ee-d58a-4f5f-8137-56e52bae59ba",
   "metadata": {},
   "source": [
    ">**Die Autoren interpretieren diese Grafik als Nachweis für fehlende statistische Signifikanz des Behandlungseffektes. Was ist der Grund dafür?**"
   ]
  },
  {
   "cell_type": "code",
   "execution_count": 25,
   "id": "e1d2839b-f8c9-4dd0-8dee-0b8acf027529",
   "metadata": {},
   "outputs": [],
   "source": [
    "opinion_final = widgets.RadioButtons(\n",
    "    options=['Die Differenz (T - C) ist teilweise negativ','Viele Konfidenzintervalle beinhalten den Wert 0', 'Kein eindeutig positiver Trend ist erkennbar'],\n",
    "    value=None,\n",
    "    description='',\n",
    "    disabled=False,\n",
    ")\n",
    "\n",
    "button_final = widgets.Button(\n",
    "    description='Auswertung',\n",
    "    disabled=False,\n",
    "    button_style='', # 'success', 'info', 'warning', 'danger' or ''\n",
    "    tooltip='Bitte klicken.',\n",
    "    #icon='check' # (FontAwesome names without the `fa-` prefix)\n",
    ")\n",
    "\n",
    "\n",
    "# define function\n",
    "def check(button_instance):\n",
    "  if opinion_final.value == 'Viele Konfidenzintervalle beinhalten den Wert 0':\n",
    "    button_final.button_style = 'success'\n",
    "    button_final.description = 'Richtig!'\n",
    "  else:\n",
    "    button_final.button_style = 'danger'\n",
    "    button_final.description = 'Leider falsch.'\n",
    "\n",
    "# set function as on_click on button\n",
    "button_final.on_click(check)"
   ]
  },
  {
   "cell_type": "code",
   "execution_count": 28,
   "id": "4e1cb06b-963e-4644-92bc-4199b147d55f",
   "metadata": {},
   "outputs": [
    {
     "data": {
      "application/vnd.jupyter.widget-view+json": {
       "model_id": "69f72d130a4a4014815cfb117b933cfe",
       "version_major": 2,
       "version_minor": 0
      },
      "text/plain": [
       "Box(children=(RadioButtons(index=1, options=('Die Differenz (T - C) ist teilweise negativ', 'Viele Konfidenzin…"
      ]
     },
     "metadata": {},
     "output_type": "display_data"
    }
   ],
   "source": [
    "items = [opinion_final, button_final]\n",
    "box_final = Box(children=items)\n",
    "display(box_final)# <- this one command displays all children"
   ]
  },
  {
   "cell_type": "markdown",
   "id": "99243c1b-9b4a-466e-b3c4-b2904e5b2a38",
   "metadata": {},
   "source": [
    "# <span style=\"font-family:Century Gothic;color:DarkCyan\">Aufgabe 4</span>"
   ]
  },
  {
   "cell_type": "markdown",
   "id": "00fa0c6c-f6cd-4f27-a535-2388ad1e771f",
   "metadata": {},
   "source": [
    "### <span style=\"font-family:Century Gothic;color:DarkCyan\">Aufgabe 4.1: Equity-Efficiency Trade-Off</span>\n",
    "\n",
    "Umverteilung kann zu Effizienzverlusten führen. Steuern und Transferzahlungen verändern die Anreize für Individuen am Arbeitsmarkt teilzunehmen - es kommt somit zu einem Zielkonflikt zwischen Verteilung und Effizienz (\"Equity-Efficiency Trade-Off\"). <a href=\"https://scholar.harvard.edu/files/stantcheva/files/stantcheva_understanding_taxes_qje.pdf\">Stantcheva (2021)</a> verdeutlicht diesen Zielkonflikt in einem Video.\n",
    "\n",
    "> **Schauen Sie das unten eingeblendete <a href=\"https://www.youtube.com/embed/e3NBmrzEmUQ\">Video</a>.**"
   ]
  },
  {
   "cell_type": "code",
   "execution_count": 25,
   "id": "7e26cb63-6681-4f91-8f8b-79d9cf093c75",
   "metadata": {},
   "outputs": [
    {
     "name": "stderr",
     "output_type": "stream",
     "text": [
      "C:\\Users\\gcappellari\\Documents\\Lehre\\Staat_und_Markt\\Uebungsblaetter\\Uebungsblatt_9\\lib\\site-packages\\IPython\\core\\display.py:431: UserWarning: Consider using IPython.display.IFrame instead\n",
      "  warnings.warn(\"Consider using IPython.display.IFrame instead\")\n"
     ]
    },
    {
     "data": {
      "text/html": [
       "<iframe width=\"560\" height=\"315\" src=\"https://www.youtube.com/embed/e3NBmrzEmUQ\" title=\"YouTube video player\" frameborder=\"0\" allow=\"accelerometer; autoplay; clipboard-write; encrypted-media; gyroscope; picture-in-picture; web-share\" allowfullscreen></iframe>"
      ],
      "text/plain": [
       "<IPython.core.display.HTML object>"
      ]
     },
     "execution_count": 25,
     "metadata": {},
     "output_type": "execute_result"
    }
   ],
   "source": [
    "HTML('<iframe width=\"560\" height=\"315\" src=\"https://www.youtube.com/embed/e3NBmrzEmUQ\" title=\"YouTube video player\" frameborder=\"0\" allow=\"accelerometer; autoplay; clipboard-write; encrypted-media; gyroscope; picture-in-picture; web-share\" allowfullscreen></iframe>')\n",
    "\n",
    "#display(IFrame('https://www.youtube.com/embed/e3NBmrzEmUQ', '100%', '900px'))"
   ]
  },
  {
   "cell_type": "markdown",
   "id": "91cbcb46-19a2-4686-8b46-e7b95d952171",
   "metadata": {
    "tags": []
   },
   "source": [
    "### <span style=\"font-family:Century Gothic;color:DarkCyan\">Aufgabe 4.2: Konsum-Freizeit-Modell ohne Besteuerung</span>\n",
    "\n",
    "Im Video wird unter anderem die Arbeitsangebotsentscheidung des US-Amerikaners John beschrieben. Wir betrachten diese Arbeitsangebotsentscheidung nun im Konsum-Freizeit-Modell."
   ]
  },
  {
   "cell_type": "markdown",
   "id": "b8da2612-7b31-4064-a36f-9af842aa0adf",
   "metadata": {},
   "source": [
    "John bezieht Nutzen aus Konsum $x$ und Freizeit $F$ und besitzt die Nutzenfunktion $U(x,F)$. Er teilt die gesamte ihm zur Verfügung stehende Zeit $\\overline{F}$ zwischen Freizeit und Arbeit $l=\\overline{F}-F$ auf. Für jede angebotene Arbeitsstunde erhält er den Lohnsatz $w$; eine Einheit Konsum kostet den Preis $p$. John gibt sein gesamtes Einkommen für Konsum aus, woraus sich die folgende Budgetbeschränkung ergibt:\n",
    "\n",
    "$$ p \\cdot x = (\\overline{F}-F) \\cdot w $$\n",
    "\n",
    "Gehen Sie im Folgenden davon aus, dass John über ein maximales Zeitbudget von 100 Stunden ($\\overline{F}=100$) verfügt und das Stundenlohn $w=1$ erhält. Eine Einheit Konsum kostet John $ p = 1 $. Johns Lohn beträgt $ w = 1 $.\n",
    "\n",
    "> **Skizzieren Sie die oben beschriebene <span style=\"color:DarkCyan\">Situation ohne Steuern</span> in untenstehendem Diagramm. Verifizieren Sie im Anschluss ihr Ergebnis indem Sie <span style=\"color:DarkCyan\">Slider A</span> nach rechts schieben.**"
   ]
  },
  {
   "cell_type": "code",
   "execution_count": 26,
   "id": "524ffff1-4ca6-4b62-9844-01864df8e136",
   "metadata": {},
   "outputs": [
    {
     "data": {
      "application/vnd.jupyter.widget-view+json": {
       "model_id": "6b455ad6b3794bfb80f4bbd52423c25f",
       "version_major": 2,
       "version_minor": 0
      },
      "text/plain": [
       "interactive(children=(IntSlider(value=0, description='A', max=1), IntSlider(value=0, description='B', max=1), …"
      ]
     },
     "execution_count": 26,
     "metadata": {},
     "output_type": "execute_result"
    }
   ],
   "source": [
    "%matplotlib inline\n",
    "\n",
    "def f(A,B):\n",
    "    plt.figure(2)\n",
    "    x = np.linspace(1, 100, num=100)\n",
    "    # Funktionen ohne Steuern\n",
    "    plt.plot(x,A*100-x,color=\"Darkcyan\")\n",
    "    plt.plot(x,A*3*380*x**(-0.5)-106,color=\"Darkcyan\")\n",
    "    # Optimum ohne Steuern\n",
    "    plt.scatter(A*70.5,A*30,color=\"Darkcyan\")\n",
    "    plt.vlines(A*70.5, 0, 30,colors='k',linestyles='dotted',color=\"Darkcyan\", alpha=0.5)\n",
    "    plt.hlines(A*30,0,70.5,colors='k',linestyles='dotted',color=\"Darkcyan\", alpha=0.5)\n",
    "    # Funktionen mit Steuern\n",
    "    plt.plot(x,B*100*(1-0.25)-(1-0.25)*x,color=\"maroon\")\n",
    "    plt.plot(x,B*3*380*x**(-0.5)-112,color=\"maroon\")    \n",
    "    # Optimum mit Steuern\n",
    "    plt.scatter(B*80,B*15,color=\"maroon\")\n",
    "    plt.vlines(B*80, 0, B*15,colors='k',linestyles='dotted',color=\"maroon\", alpha=0.5)\n",
    "    plt.hlines(B*15,0,B*80,colors='k',linestyles='dotted',color=\"maroon\", alpha=0.5)\n",
    "    # Settings\n",
    "    plt.ylim(0, 100)\n",
    "    plt.xlabel(\"Freizeit $F$\")\n",
    "    plt.margins(x=0)\n",
    "    plt.ylabel(\"Konsum $x$\")    \n",
    "    plt.show()\n",
    "    \n",
    "    \n",
    "interactive_plot = interactive(f, A=(0, 1,1), B=(0, 1,1))\n",
    "output = interactive_plot.children[-1]\n",
    "interactive_plot"
   ]
  },
  {
   "cell_type": "markdown",
   "id": "e4c09bb3-68f1-4e02-9f6e-79fc571916b2",
   "metadata": {},
   "source": [
    "### <span style=\"font-family:Century Gothic;color:DarkCyan\">Aufgabe 4.3: Konsum-Freizeit-Modell mit Besteuerung</span>"
   ]
  },
  {
   "cell_type": "code",
   "execution_count": 27,
   "id": "948ec006-7ebc-4e26-8150-76a7e5dfb7eb",
   "metadata": {},
   "outputs": [
    {
     "data": {
      "application/vnd.jupyter.widget-view+json": {
       "model_id": "2cc8669ae1f642efb543eeeb0f57397c",
       "version_major": 2,
       "version_minor": 0
      },
      "text/plain": [
       "Image(value=b'\\xff\\xd8\\xff\\xe0\\x00\\x10JFIF\\x00\\x01\\x01\\x01\\x00`\\x00`\\x00\\x00\\xff\\xe14XExif\\x00\\x00MM\\x00*\\x00\\…"
      ]
     },
     "execution_count": 27,
     "metadata": {},
     "output_type": "execute_result"
    }
   ],
   "source": [
    "file = builtins.open(\"Bilder/Biden.jpg\", \"rb\")\n",
    "image = file.read()\n",
    "bild_Biden = widgets.Image(\n",
    "    value=image,\n",
    "    format='png',\n",
    "    width=650,\n",
    "    #height=90,\n",
    "    )\n",
    "bild_Biden"
   ]
  },
  {
   "cell_type": "markdown",
   "id": "0c7ba2aa-08d3-47d5-8583-523fb2ee5661",
   "metadata": {},
   "source": [
    "<a href=\"https://www.nytimes.com/2021/04/22/business/economy/biden-taxes.html\">Quelle: New York Times (22.04.2022)</a>\n",
    "\n",
    "Nach der letzten Wahlrunde beschließt die neue Regierung, eine Lohneinkommensteuer $t$ in Höhe von 25% einzuführen. \n",
    "\n",
    "> **Stellen Sie die neue Budgetgerade auf. Wie lautet die Steigung der neuen Budgetgeraden und wie der Schnittpunkt mit der Ordinate?**"
   ]
  },
  {
   "cell_type": "code",
   "execution_count": 28,
   "id": "626550b9-b90e-479c-bed7-ba67f62e8f2d",
   "metadata": {},
   "outputs": [
    {
     "data": {
      "application/vnd.jupyter.widget-view+json": {
       "model_id": "533d4542433d472498a0a98dbe1fe2f8",
       "version_major": 2,
       "version_minor": 0
      },
      "text/plain": [
       "Accordion(children=(Label(value='Allgemein $$ p \\\\cdot x = (\\\\overline{F}-F) \\\\cdot w \\\\cdot (1-t)$$ Mit Werte…"
      ]
     },
     "execution_count": 28,
     "metadata": {},
     "output_type": "execute_result"
    }
   ],
   "source": [
    "accordion = widgets.Accordion([\n",
    "    widgets.Label(\n",
    "        value=\"Allgemein $$ p \\cdot x = (\\overline{F}-F) \\cdot w \\cdot (1-t)$$ Mit Werten $$  1 \\cdot x = (100-F) \\cdot 1 \\cdot (1-0.25) $$ \",\n",
    "        placeholder='Some LaTeX',\n",
    "        description='Some LaTeX',\n",
    "        disabled=False\n",
    "    ),\n",
    "    widgets.Label(\n",
    "        value=\"Mit Werten $$ x = \\\\frac{1 \\cdot (1 - 0.25)}{1} \\cdot 100 - \\\\frac{1 \\cdot (1 - 0.25)}{1} \\cdot F=75 - 0.75 \\cdot F $$\",\n",
    "        placeholder='Some LaTeX',\n",
    "        description='Some LaTeX',\n",
    "        disabled=False\n",
    "    ),\n",
    "    widgets.Label(\n",
    "        value=\"Steigung $$- \\\\frac{w (1-t)}{p} = - 0.75$$ Achsenabschnitt Ordinate $$ \\\\frac{w(1-t)}{p} \\cdot \\overline{F} = 75 $$\",\n",
    "        placeholder='Some LaTeX',\n",
    "        description='Some LaTeX',\n",
    "        disabled=False\n",
    "    )], selected_index=None)\n",
    "accordion.set_title(0, 'Budgetrestriktion')\n",
    "accordion.set_title(1, 'Budgetrestriktion (2)')\n",
    "accordion.set_title(2, 'Steigung und Achsenabschnitt Ordinate')\n",
    "\n",
    "accordion"
   ]
  },
  {
   "cell_type": "markdown",
   "id": "044ac656-cd32-4cac-88f9-b23df4ad6dbb",
   "metadata": {},
   "source": [
    "> **Skizzieren Sie die <span style=\"color:maroon\">Situation mit Steuern</span> in obigem Diagramm. Verifizieren Sie im Anschluss ihr Ergebnis indem Sie <span style=\"color:maroon\">Slider B</span>** (oberhalb des Diagramms) **nach rechts schieben.**\n",
    "\n",
    "> **Welchen Effekt hat die Einführung der Steuer auf das Arbeitsangebot von John?**"
   ]
  },
  {
   "cell_type": "code",
   "execution_count": 29,
   "id": "cb80e015-f88a-43f1-abf8-2a5d22cba764",
   "metadata": {},
   "outputs": [
    {
     "data": {
      "application/vnd.jupyter.widget-view+json": {
       "model_id": "689a1cba4d614da0817dbe070abc4909",
       "version_major": 2,
       "version_minor": 0
      },
      "text/plain": [
       "Box(children=(RadioButtons(options=('John arbeitet mehr.', 'John arbeitet weniger.', 'John arbeitet genau so v…"
      ]
     },
     "metadata": {},
     "output_type": "display_data"
    }
   ],
   "source": [
    "opinion_john = widgets.RadioButtons(\n",
    "    options=['John arbeitet mehr.','John arbeitet weniger.', 'John arbeitet genau so viel.'],\n",
    "    value=None,\n",
    "    description='',\n",
    "    disabled=False,\n",
    ")\n",
    "\n",
    "button_john = widgets.Button(\n",
    "    description='Auswertung',\n",
    "    disabled=False,\n",
    "    button_style='', # 'success', 'info', 'warning', 'danger' or ''\n",
    "    tooltip='Bitte klicken.',\n",
    "    #icon='check' # (FontAwesome names without the `fa-` prefix)\n",
    ")\n",
    "\n",
    "\n",
    "# define function\n",
    "def check(button_instance):\n",
    "  if opinion_john.value == 'John arbeitet weniger.':\n",
    "    button_john.button_style = 'success'\n",
    "    button_john.description = 'Richtig!'\n",
    "  else:\n",
    "    button_john.button_style = 'danger'\n",
    "    button_john.description = 'Leider falsch.'\n",
    "\n",
    "# set function as on_click on button\n",
    "button_john.on_click(check)\n",
    "\n",
    "items = [opinion_john, button_john]\n",
    "box_john = Box(children=items)\n",
    "display(box_john) # <- this one command displays all children"
   ]
  },
  {
   "cell_type": "markdown",
   "id": "d64c4816-2c8a-4bbf-bbd8-f73a2b2ce200",
   "metadata": {},
   "source": [
    "Nach einem Jahr kündigt die Regierung eine weitere Steuerreform an. Das Lohneinkommen aus den ersten 20 angebotenen Arbeitsstunden soll ab sofort steuerfrei bleiben. Ab dieser Grenze gilt der Lohnsteuersatz $t=40 $%.\n",
    "\n",
    "> **Stellen Sie die neue Budgetgerade auf. Wie lautet die Steigung der neuen Budgetgeraden und wie der Schnittpunkt mit der Ordinate?**\n"
   ]
  },
  {
   "cell_type": "markdown",
   "id": "322c38e0-7f16-4649-af16-ebd7686d2a83",
   "metadata": {},
   "source": [
    "Hinweis: Unterscheiden Sie die zwei Fälle unterhalb und oberhalb der ersten 20 angebotenen Arbeitsstuden."
   ]
  },
  {
   "cell_type": "code",
   "execution_count": 30,
   "id": "7a8bf94d-9e64-49bd-a991-ea6c209aeb97",
   "metadata": {},
   "outputs": [
    {
     "data": {
      "application/vnd.jupyter.widget-view+json": {
       "model_id": "03eb6071949c4fb1852dfe35aa1ef1db",
       "version_major": 2,
       "version_minor": 0
      },
      "text/plain": [
       "Accordion(children=(Label(value='Für $$F > 80$$: $$ p \\\\cdot x = (\\\\overline{F}-F) \\\\cdot w $$ Mit Werten  $$ …"
      ]
     },
     "execution_count": 30,
     "metadata": {},
     "output_type": "execute_result"
    }
   ],
   "source": [
    "accordion = widgets.Accordion([\n",
    "    widgets.Label(\n",
    "        value=\"Für $$F > 80$$: $$ p \\cdot x = (\\overline{F}-F) \\cdot w $$ Mit Werten  $$  1 \\cdot x = (100-F) \\cdot 1 $$\",\n",
    "        placeholder='Some LaTeX',\n",
    "        description='Some LaTeX',\n",
    "        disabled=False\n",
    "    ),\n",
    "    widgets.Label(\n",
    "        value=\"Für $F \\leq 80$: $$ p \\cdot x = 20 \\cdot w + (\\overline{F}-20-F) \\cdot w \\cdot (1-t)$$ Mit Werten $$  1 \\cdot x = 20 \\cdot 1 + (80-F) \\cdot 1 \\cdot (1-0.40) $$\",\n",
    "        placeholder='Some LaTeX',\n",
    "        description='Some LaTeX',\n",
    "        disabled=False\n",
    "    ),\n",
    "    widgets.Label(\n",
    "        value=\"Für $F > 80$: $$x = \\\\frac{(100 - F) \\cdot 1}{1} = \\\\frac{1}{1} \\cdot 100 - \\\\frac{1}{1} \\cdot F = 100 -  F $$\",\n",
    "        placeholder='Some LaTeX',\n",
    "        description='Some LaTeX',\n",
    "        disabled=False\n",
    "    ),\n",
    "    widgets.Label(\n",
    "        value=\"Für $F \\leq 80$: $$ x = 20 \\cdot \\\\frac{1}{1} + \\\\frac{(80 - F) \\cdot 1 \\cdot (1-0.40)}{1} = 20 + 0.6 \\cdot 80 - 0.6 \\cdot F = 68 - 0.6 \\cdot F $$\",\n",
    "        placeholder='Some LaTeX',\n",
    "        description='Some LaTeX',\n",
    "        disabled=False\n",
    "    ),\n",
    "    widgets.Label(\n",
    "        value=\"Für $$F > 80$$ Steigung $$- \\\\frac{w}{p} = - 1$$ Achsenabschnitt Abszisse $$ 100 - F = 0 \\\\rightarrow F = 100 $$\",\n",
    "        placeholder='Some LaTeX',\n",
    "        description='Some LaTeX',\n",
    "        disabled=False\n",
    "    ),\n",
    "    widgets.Label(\n",
    "        value=\"Für $$F \\leq 80$$ Steigung $$- \\\\frac{w (1-t)}{p} = - 0.6$$ Achsenabschnitt Ordinate $$ 20 + \\\\frac{w(1-t)}{p} \\cdot (\\overline{F} - 20) = 68 $$\",\n",
    "        placeholder='Some LaTeX',\n",
    "        description='Some LaTeX',\n",
    "        disabled=False  \n",
    "    )], selected_index=None)\n",
    "\n",
    "accordion.set_title(0, 'Budgetrestriktion für bis zu 20 Arbeitsstunden')\n",
    "accordion.set_title(1, 'Budgetrestriktion für mehr als 20 Arbeitsstunden')\n",
    "accordion.set_title(2, 'Budgetrestriktion für bis zu 20 Arbeitsstunden (2)')\n",
    "accordion.set_title(3, 'Budgetrestriktion für mehr als 20 Arbeitsstunden (2)')\n",
    "accordion.set_title(4, 'Steigung und Achsenabschnitt für bis zu 20 Arbeitsstunden')\n",
    "accordion.set_title(5, 'Steigung und Achsenabschnitt für mehr als 20 Arbeitsstunden')\n",
    "\n",
    "\n",
    "accordion"
   ]
  },
  {
   "cell_type": "markdown",
   "id": "051cc8c0-3e1b-4cd2-890e-b1f9bc60f707",
   "metadata": {},
   "source": [
    ">**Skizzieren Sie die <span style=\"color:darkgreen\">Situation nach der Steuerreform</span> in untenstehendem Diagramm. Verifizieren Sie im Anschluss ihr Ergebnis, indem Sie <span style=\"color:darkgreen\">Slider C</span>** (oberhalb des Diagramms) **nach rechts schieben.**"
   ]
  },
  {
   "cell_type": "code",
   "execution_count": 31,
   "id": "2cf1b28e-00e2-4655-bd86-e81a707b7e56",
   "metadata": {},
   "outputs": [
    {
     "data": {
      "application/vnd.jupyter.widget-view+json": {
       "model_id": "a3ad41cf3cdf4f308a9fc208360573ae",
       "version_major": 2,
       "version_minor": 0
      },
      "text/plain": [
       "interactive(children=(IntSlider(value=0, description='C', max=1), Output()), _dom_classes=('widget-interact',)…"
      ]
     },
     "execution_count": 31,
     "metadata": {},
     "output_type": "execute_result"
    }
   ],
   "source": [
    "%matplotlib inline\n",
    "def f(C):\n",
    "    plt.figure(2)\n",
    "    Z = np.linspace(1, 100, num=100)\n",
    "    # Funktionen mit Steuern\n",
    "    x = np.array([0, C*80, C*100])\n",
    "    y = np.array([C*68, C*20, 0])\n",
    "    plt.plot(C*x, C*y, color=\"darkgreen\")\n",
    "    plt.plot(Z,C*3*380*Z**(-0.5)-107, color=\"darkgreen\")  \n",
    "    # Optimum\n",
    "    plt.scatter(C*80,C*20,color=\"darkgreen\")\n",
    "    plt.vlines(C*80, 0, C*20,colors='k',linestyles='dotted',color=\"darkgreen\", alpha=0.5)\n",
    "    plt.hlines(C*20,0,C*80,colors='k',linestyles='dotted',color=\"darkgreen\", alpha=0.5)\n",
    "\n",
    "    # Settings\n",
    "    plt.ylim(0, 100)\n",
    "    plt.xlim(0, 100)\n",
    "    plt.xlabel(\"Freizeit $F$\")\n",
    "    plt.margins(x=0)\n",
    "    plt.ylabel(\"Konsum $x$\")    \n",
    "    plt.show()\n",
    "\n",
    "interactive_plot = interactive(f, C=(0, 1,1))\n",
    "output = interactive_plot.children[-1]\n",
    "interactive_plot"
   ]
  },
  {
   "cell_type": "markdown",
   "id": "2b6aaeb1-13c5-48b5-9158-9edc58a13084",
   "metadata": {},
   "source": [
    "> **Wie verändert sich durch die neuerliche Steuerreform Johns Arbeitsangebot im Vergleich zur Situation mit $t=25$% (Aufgabe 4.3) ?**"
   ]
  },
  {
   "cell_type": "code",
   "execution_count": 40,
   "id": "f323a849-2ba4-453c-abf3-15bb23be3064",
   "metadata": {},
   "outputs": [
    {
     "data": {
      "application/vnd.jupyter.widget-view+json": {
       "model_id": "926bb2a2b0a642fb8fa618977f3284e9",
       "version_major": 2,
       "version_minor": 0
      },
      "text/plain": [
       "Box(children=(RadioButtons(options=('John arbeitet mehr.', 'John arbeitet weniger.', 'John arbeitet genau so v…"
      ]
     },
     "metadata": {},
     "output_type": "display_data"
    }
   ],
   "source": [
    "opinion_john = widgets.RadioButtons(\n",
    "    options=['John arbeitet mehr.','John arbeitet weniger.', 'John arbeitet genau so viel.'],\n",
    "    value=None,\n",
    "    description='',\n",
    "    disabled=False,\n",
    ")\n",
    "\n",
    "button_john = widgets.Button(\n",
    "    description='Auswertung',\n",
    "    disabled=False,\n",
    "    button_style='', # 'success', 'info', 'warning', 'danger' or ''\n",
    "    tooltip='Bitte klicken.',\n",
    "    #icon='check' # (FontAwesome names without the `fa-` prefix)\n",
    ")\n",
    "\n",
    "\n",
    "# define function\n",
    "def check(button_instance):\n",
    "  if opinion_john.value == 'John arbeitet genau so viel.':\n",
    "    button_john.button_style = 'success'\n",
    "    button_john.description = 'Richtig!'\n",
    "  else:\n",
    "    button_john.button_style = 'danger'\n",
    "    button_john.description = 'Leider falsch.'\n",
    "\n",
    "# set function as on_click on button\n",
    "button_john.on_click(check)\n",
    "\n",
    "items = [opinion_john, button_john]\n",
    "box_john = Box(children=items)\n",
    "display(box_john) # <- this one command display"
   ]
  },
  {
   "cell_type": "markdown",
   "id": "eaa74f92-8d06-4ce8-aa7c-20b22eabcc25",
   "metadata": {},
   "source": [
    "> **Wie verändert sich durch die neuerliche Steuerreform Johns Konsum im Vergleich zur Situation mit $t=25$% (Aufgabe 4.3)?**"
   ]
  },
  {
   "cell_type": "code",
   "execution_count": 41,
   "id": "05d510fb-7e9b-4e9d-92a9-4f2b667faa27",
   "metadata": {},
   "outputs": [
    {
     "data": {
      "application/vnd.jupyter.widget-view+json": {
       "model_id": "e88532e9978647c4b7ca76da3fb6d87f",
       "version_major": 2,
       "version_minor": 0
      },
      "text/plain": [
       "Box(children=(RadioButtons(options=('John konsumiert mehr.', 'John konsumiert weniger.', 'John konsumiert gena…"
      ]
     },
     "metadata": {},
     "output_type": "display_data"
    }
   ],
   "source": [
    "opinion_john = widgets.RadioButtons(\n",
    "    options=['John konsumiert mehr.','John konsumiert weniger.', 'John konsumiert genau so viel'],\n",
    "    value=None,\n",
    "    description='',\n",
    "    disabled=False,\n",
    ")\n",
    "\n",
    "button_john = widgets.Button(\n",
    "    description='Auswertung',\n",
    "    disabled=False,\n",
    "    button_style='', # 'success', 'info', 'warning', 'danger' or ''\n",
    "    tooltip='Bitte klicken.',\n",
    "    #icon='check' # (FontAwesome names without the `fa-` prefix)\n",
    ")\n",
    "\n",
    "\n",
    "# define function\n",
    "def check(button_instance):\n",
    "  if opinion_john.value == 'John konsumiert mehr.':\n",
    "    button_john.button_style = 'success'\n",
    "    button_john.description = 'Richtig!'\n",
    "  else:\n",
    "    button_john.button_style = 'danger'\n",
    "    button_john.description = 'Leider falsch.'\n",
    "\n",
    "# set function as on_click on button\n",
    "button_john.on_click(check)\n",
    "\n",
    "items = [opinion_john, button_john]\n",
    "box_john_k = Box(children=items)\n",
    "display(box_john_k) # <- this one command display"
   ]
  },
  {
   "cell_type": "markdown",
   "id": "fc3e2b9a-f1ac-4a71-857e-fbec1fcd5cc1",
   "metadata": {},
   "source": [
    "> **Wie verändert sich durch die neuerliche Steuerreform Johns Arbeitsangebot im Vergleich zur Situation ohne Besteuerung (Aufgabe 4.2)?**"
   ]
  },
  {
   "cell_type": "code",
   "execution_count": 44,
   "id": "0417ce66-1d65-4ebf-92ef-648f6e6c9851",
   "metadata": {},
   "outputs": [
    {
     "data": {
      "application/vnd.jupyter.widget-view+json": {
       "model_id": "9462bcf03102441c8d62212a60b85388",
       "version_major": 2,
       "version_minor": 0
      },
      "text/plain": [
       "Box(children=(RadioButtons(options=('John arbeitet mehr.', 'John arbeitet weniger.', 'John arbeitet genau so v…"
      ]
     },
     "metadata": {},
     "output_type": "display_data"
    }
   ],
   "source": [
    "opinion_john = widgets.RadioButtons(\n",
    "    options=['John arbeitet mehr.','John arbeitet weniger.', 'John arbeitet genau so viel.'],\n",
    "    value=None,\n",
    "    description='',\n",
    "    disabled=False,\n",
    ")\n",
    "\n",
    "button_john = widgets.Button(\n",
    "    description='Auswertung',\n",
    "    disabled=False,\n",
    "    button_style='', # 'success', 'info', 'warning', 'danger' or ''\n",
    "    tooltip='Bitte klicken.',\n",
    "    #icon='check' # (FontAwesome names without the `fa-` prefix)\n",
    ")\n",
    "\n",
    "\n",
    "# define function\n",
    "def check(button_instance):\n",
    "  if opinion_john.value == 'John arbeitet weniger.':\n",
    "    button_john.button_style = 'success'\n",
    "    button_john.description = 'Richtig!'\n",
    "  else:\n",
    "    button_john.button_style = 'danger'\n",
    "    button_john.description = 'Leider falsch.'\n",
    "\n",
    "# set function as on_click on button\n",
    "button_john.on_click(check)\n",
    "\n",
    "items = [opinion_john, button_john]\n",
    "box_john = Box(children=items)\n",
    "display(box_john) # <- this one command display"
   ]
  },
  {
   "cell_type": "code",
   "execution_count": null,
   "id": "5855b076-d00a-446d-8c9d-b848472e90b1",
   "metadata": {},
   "outputs": [],
   "source": []
  }
 ],
 "metadata": {
  "kernelspec": {
   "display_name": "Python 3 (ipykernel)",
   "language": "python",
   "name": "python3"
  },
  "language_info": {
   "codemirror_mode": {
    "name": "ipython",
    "version": 3
   },
   "file_extension": ".py",
   "mimetype": "text/x-python",
   "name": "python",
   "nbconvert_exporter": "python",
   "pygments_lexer": "ipython3",
   "version": "3.10.12"
  }
 },
 "nbformat": 4,
 "nbformat_minor": 5
}
